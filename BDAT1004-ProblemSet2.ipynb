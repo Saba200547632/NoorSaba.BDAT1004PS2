{
 "cells": [
  {
   "cell_type": "markdown",
   "id": "c2417464",
   "metadata": {},
   "source": [
    "# Question 1"
   ]
  },
  {
   "cell_type": "markdown",
   "id": "015c9cf6",
   "metadata": {},
   "source": [
    "#### Consider the following Python module:\n",
    " a = 0\n",
    " \n",
    "def b():\n",
    "\n",
    "global a\n",
    "\n",
    "a = c(a)\n",
    "\n",
    "def c(a):\n",
    "\n",
    "return a + 2\n",
    "\n",
    "#### After importing the module into the interpreter, you execute:\n",
    "b()\n",
    "\n",
    "b()\n",
    "\n",
    "b()\n",
    "\n",
    "a\n",
    "\n",
    "?\n",
    "#### What value is displayed when the last expression (a) is evaluated? Explain your answer by indicating what happens in every executed statement."
   ]
  },
  {
   "cell_type": "code",
   "execution_count": 42,
   "id": "88e78d32",
   "metadata": {},
   "outputs": [],
   "source": [
    "a = 0\n",
    "def b():\n",
    "    global a\n",
    "    a = c(a)\n",
    "def c(a):\n",
    "    return a + 2"
   ]
  },
  {
   "cell_type": "code",
   "execution_count": 43,
   "id": "340b2c4e",
   "metadata": {},
   "outputs": [],
   "source": [
    "b()"
   ]
  },
  {
   "cell_type": "code",
   "execution_count": null,
   "id": "4965bdad",
   "metadata": {},
   "outputs": [],
   "source": [
    "b() is called the first time\n",
    "Inside b(), the global keyword indicates that the function will modify the global variable a.\n",
    "a = c(a) calls the function c with the current value of a which is 0.\n",
    "c(a) returns a + 2, which is 0 + 2 = 2.\n",
    "a = 2\n",
    "The global variable a is updated to 2."
   ]
  },
  {
   "cell_type": "code",
   "execution_count": 44,
   "id": "e583a9fc",
   "metadata": {},
   "outputs": [],
   "source": [
    "b()"
   ]
  },
  {
   "cell_type": "code",
   "execution_count": null,
   "id": "c1b8837e",
   "metadata": {},
   "outputs": [],
   "source": [
    "b() is called the second time\n",
    "Inside b(), the global keyword indicates that the function will modify the global variable a.\n",
    "a = c(a) calls the function c with the current value of a which is 2.\n",
    "c(a) returns a + 2, which is 2 + 2 = 4.\n",
    "a = 4\n",
    "The global variable a is updated to 4."
   ]
  },
  {
   "cell_type": "code",
   "execution_count": 45,
   "id": "05470c68",
   "metadata": {},
   "outputs": [],
   "source": [
    "b()"
   ]
  },
  {
   "cell_type": "code",
   "execution_count": null,
   "id": "1ac6a728",
   "metadata": {},
   "outputs": [],
   "source": [
    "b() is called the third time\n",
    "Inside b(), the global keyword indicates that the function will modify the global variable a.\n",
    "a = c(a) calls the function c with the current value of a which is 4.\n",
    "c(a) returns a + 2, which is 4 + 2 = 6.\n",
    "a = 6\n",
    "The global variable a is updated to 6."
   ]
  },
  {
   "cell_type": "code",
   "execution_count": 46,
   "id": "91b7353b",
   "metadata": {},
   "outputs": [
    {
     "data": {
      "text/plain": [
       "6"
      ]
     },
     "execution_count": 46,
     "metadata": {},
     "output_type": "execute_result"
    }
   ],
   "source": [
    "a"
   ]
  },
  {
   "cell_type": "code",
   "execution_count": null,
   "id": "5c6ec727",
   "metadata": {},
   "outputs": [],
   "source": [
    "The value of a is printed which is 6, after executing b() three times."
   ]
  },
  {
   "cell_type": "markdown",
   "id": "3048da01",
   "metadata": {},
   "source": [
    "# Question 2"
   ]
  },
  {
   "cell_type": "markdown",
   "id": "ee01f442",
   "metadata": {},
   "source": [
    "#### Function fileLength(), given to you, takes the name of a file as input and returns the length of the file:\n",
    "#### >>> fileLength('midterm.py') \n",
    "#### 284 \n",
    "#### >>> fileLength('idterm.py') \n",
    "#### Traceback (most recent call last): File \"<pyshell#34>\", line 1, in <module> fileLength('idterm.py') File \"/Users/me/midterm.py\", line 3, in fileLength infile = open(filename) FileNotFoundError: [Errno 2] No such file or directory: 'idterm.py'\n"
   ]
  },
  {
   "cell_type": "markdown",
   "id": "3866ec4b",
   "metadata": {},
   "source": [
    "#### As shown above, if the file cannot be found by the interpreter or if it cannot be read as a text file, an exception will be raised. Modify function fileLength() so that a friendly message is printed instead: \n",
    "#### >>> fileLength('midterm.py') \n",
    "#### 358 \n",
    "#### >>> fileLength('idterm.py') \n",
    "####  File idterm.py not found."
   ]
  },
  {
   "cell_type": "code",
   "execution_count": 93,
   "id": "728a412b",
   "metadata": {},
   "outputs": [
    {
     "name": "stdout",
     "output_type": "stream",
     "text": [
      "8053\n"
     ]
    }
   ],
   "source": [
    "def fileLength(filename):\n",
    "    try:\n",
    "        with open(filename, 'r') as infile:\n",
    "            contents = infile.read()\n",
    "            return len(contents)\n",
    "    except FileNotFoundError:\n",
    "        print(f\"File {filename} not found.\")\n",
    "    except Exception as e:\n",
    "        print(f\"An error occurred: {e}\")\n",
    "\n",
    "\n",
    "print(fileLength('midterm.py'))  #Printing the length of file"
   ]
  },
  {
   "cell_type": "code",
   "execution_count": 91,
   "id": "42dc5131",
   "metadata": {},
   "outputs": [
    {
     "name": "stdout",
     "output_type": "stream",
     "text": [
      "File idterm.py not found.\n",
      "None\n"
     ]
    }
   ],
   "source": [
    "print(fileLength('idterm.py'))"
   ]
  },
  {
   "cell_type": "markdown",
   "id": "a4c10eea",
   "metadata": {},
   "source": [
    "# Question 3"
   ]
  },
  {
   "cell_type": "markdown",
   "id": "63f51e2c",
   "metadata": {},
   "source": [
    "#### Write a class named Marsupial that can be used as shown below: \n",
    "m = Marsupial() \n",
    "\n",
    "m.put_in_pouch('doll') \n",
    "\n",
    "m.put_in_pouch('firetruck') \n",
    "\n",
    "m.put_in_pouch('kitten') \n",
    "\n",
    "m.pouch_contents() ['doll', 'firetruck', 'kitten']"
   ]
  },
  {
   "cell_type": "code",
   "execution_count": 62,
   "id": "ba4a30ea",
   "metadata": {},
   "outputs": [
    {
     "name": "stdout",
     "output_type": "stream",
     "text": [
      "['doll', 'firetruck', 'kitten']\n"
     ]
    }
   ],
   "source": [
    "class Marsupial:\n",
    "    def __init__(self):    #Initializing empty pouch\n",
    "        self.pouch = []\n",
    "\n",
    "    def put_in_pouch(self, a):      #Adding input item to pouch\n",
    "        self.pouch.append(a)\n",
    "\n",
    "    def pouch_contents(self):       #Returning pouch items\n",
    "        return self.pouch\n",
    "\n",
    "m = Marsupial()     #Creating instance of Marsupial\n",
    "m.put_in_pouch('doll')\n",
    "m.put_in_pouch('firetruck')\n",
    "m.put_in_pouch('kitten')\n",
    "print(m.pouch_contents())  \n"
   ]
  },
  {
   "cell_type": "markdown",
   "id": "e011848f",
   "metadata": {},
   "source": [
    "#### Now write a class named Kangaroo as a subclass of Marsupial that inherits all the attributes of Marsupial and also:\n",
    "a. extends the Marsupial __init__ constructor to take, as input, the coordinates x and y of the Kangaroo object,\n",
    "\n",
    "b. supports method jump that takes number values dx and dy as input and moves the kangaroo by dx units along the x-axis and by dy units along the y-axis, and\n",
    "\n",
    "c. overloads the __str__ operator so it behaves as shown below."
   ]
  },
  {
   "cell_type": "code",
   "execution_count": 94,
   "id": "503c66c1",
   "metadata": {},
   "outputs": [
    {
     "name": "stdout",
     "output_type": "stream",
     "text": [
      "I am a Kangaroo located at coordinates (0,0)\n",
      "I am a Kangaroo located at coordinates (3,0)\n"
     ]
    }
   ],
   "source": [
    "class Marsupial:\n",
    "    def __init__(self):\n",
    "        self.pouch = []\n",
    "\n",
    "    def put_in_pouch(self, item):\n",
    "        self.pouch.append(item)\n",
    "\n",
    "    def pouch_contents(self):\n",
    "        return self.pouch\n",
    "\n",
    "class Kangaroo(Marsupial):\n",
    "    def __init__(self, x, y):        #Initializing Kangaroo object\n",
    "        super().__init__()\n",
    "        self.x = x\n",
    "        self.y = y\n",
    "\n",
    "    def jump(self, dx, dy):     #Moving through x-axis and y-axis\n",
    "        self.x += dx\n",
    "        self.y += dy\n",
    "\n",
    "    def __str__(self):\n",
    "        return f\"I am a Kangaroo located at coordinates ({self.x},{self.y})\"\n",
    "\n",
    "\n",
    "k = Kangaroo(0, 0)\n",
    "print(k)            #I am a Kangaroo located at coordinates (0,0)\n",
    "\n",
    "k.jump(1, 0)\n",
    "k.jump(1, 0)\n",
    "k.jump(1, 0)\n",
    "print(k)            #I am a Kangaroo located at coordinates (3,0)\n"
   ]
  },
  {
   "cell_type": "markdown",
   "id": "398eca60",
   "metadata": {},
   "source": [
    "# Question 4"
   ]
  },
  {
   "cell_type": "markdown",
   "id": "a1874ee7",
   "metadata": {},
   "source": [
    "#### Write function collatz() that takes a positive integer x as input and prints the Collatz sequence starting at x. A Collatz sequence is obtained by repeatedly applying this rule to the previous number x in the sequence:\n",
    "#### x = { 𝑥/2 𝑖𝑓 𝑥 𝑖𝑠 𝑒𝑣𝑒𝑛\n",
    "####       { 3𝑥+1 𝑖𝑓 𝑥 𝑖𝑠 𝑜𝑑𝑑\n",
    "#### Your function should stop when the sequence gets to number 1. Your implementation must be recursive, without any loops.\n",
    "#### >>> collatz(1)\n",
    "#### 1\n",
    "#### >>> collatz(10)\n",
    "#### 10\n",
    "#### 5\n",
    "#### 16\n",
    "#### 8\n",
    "#### 4\n",
    "#### 2\n",
    "#### 1"
   ]
  },
  {
   "cell_type": "code",
   "execution_count": 31,
   "id": "17263672",
   "metadata": {},
   "outputs": [
    {
     "name": "stdout",
     "output_type": "stream",
     "text": [
      "10\n",
      "5\n",
      "16\n",
      "8\n",
      "4\n",
      "2\n",
      "1\n"
     ]
    }
   ],
   "source": [
    "def collatz(x):\n",
    "    if x <= 0:\n",
    "        print(\"Input must be a positive integer\")\n",
    "    \n",
    "    print(x)    #Printing the current value of x\n",
    "    if x == 1:\n",
    "        return\n",
    "    elif x % 2 == 0:\n",
    "        collatz(x // 2)\n",
    "    else:\n",
    "        collatz(3 * x + 1)\n",
    "\n",
    "\n",
    "collatz(10)\n"
   ]
  },
  {
   "cell_type": "code",
   "execution_count": 32,
   "id": "5c590413",
   "metadata": {},
   "outputs": [
    {
     "name": "stdout",
     "output_type": "stream",
     "text": [
      "1\n"
     ]
    }
   ],
   "source": [
    "collatz(1)"
   ]
  },
  {
   "cell_type": "markdown",
   "id": "bfe76757",
   "metadata": {},
   "source": [
    "# Question 5"
   ]
  },
  {
   "cell_type": "markdown",
   "id": "9240c6a0",
   "metadata": {},
   "source": [
    "#### Write a recursive method binary() that takes a non-negative integer n and prints the binary representation of integer n.\n",
    "#### >>> binary(0) \n",
    "#### 0 \n",
    "#### >>> binary(1) \n",
    "#### 1 \n",
    "#### >>> binary(3) \n",
    "#### 11 \n",
    "#### >>> binary(9) \n",
    "#### 1001"
   ]
  },
  {
   "cell_type": "code",
   "execution_count": 18,
   "id": "ed4ed152",
   "metadata": {},
   "outputs": [],
   "source": [
    "def binary(n):\n",
    "    if n < 0:\n",
    "        print(\"Input cannot be negative\")\n",
    "    \n",
    "    def binary_recursive(n):\n",
    "        if n == 0:\n",
    "            return \"\"\n",
    "        else:\n",
    "            return binary_recursive(n // 2) + str(n % 2)\n",
    "    \n",
    "\n",
    "    if n == 0:        #If input is zero\n",
    "        print(0)\n",
    "    else:\n",
    "        print(binary_recursive(n))\n",
    "    "
   ]
  },
  {
   "cell_type": "code",
   "execution_count": 6,
   "id": "8177e189",
   "metadata": {},
   "outputs": [
    {
     "name": "stdout",
     "output_type": "stream",
     "text": [
      "0\n"
     ]
    }
   ],
   "source": [
    "binary(0)"
   ]
  },
  {
   "cell_type": "code",
   "execution_count": 7,
   "id": "f6f36050",
   "metadata": {},
   "outputs": [
    {
     "name": "stdout",
     "output_type": "stream",
     "text": [
      "1\n"
     ]
    }
   ],
   "source": [
    "binary(1)"
   ]
  },
  {
   "cell_type": "code",
   "execution_count": 8,
   "id": "7f1f07ca",
   "metadata": {},
   "outputs": [
    {
     "name": "stdout",
     "output_type": "stream",
     "text": [
      "11\n"
     ]
    }
   ],
   "source": [
    "binary(3)"
   ]
  },
  {
   "cell_type": "code",
   "execution_count": 16,
   "id": "170a824a",
   "metadata": {},
   "outputs": [
    {
     "name": "stdout",
     "output_type": "stream",
     "text": [
      "1001\n"
     ]
    }
   ],
   "source": [
    "binary(9)"
   ]
  },
  {
   "cell_type": "code",
   "execution_count": 19,
   "id": "99b7b668",
   "metadata": {},
   "outputs": [
    {
     "name": "stdout",
     "output_type": "stream",
     "text": [
      "10100\n"
     ]
    }
   ],
   "source": [
    "binary(20)"
   ]
  },
  {
   "cell_type": "markdown",
   "id": "16477868",
   "metadata": {},
   "source": [
    "# Question 6"
   ]
  },
  {
   "cell_type": "markdown",
   "id": "eb871e58",
   "metadata": {},
   "source": [
    "#### Implement a class named HeadingParser that can be used to parse an HTML document, and retrieve and print all the headings in the document. You should implement your class as a subclass of HTMLParser, defined in Standard Library module html.parser. When fed a string containing HTML code, your class should print the headings, one per line and in the order in which they appear in the document. Each heading should be indented as follows: an h1 heading should have indentation 0, and h2 heading should have indentation 1, etc. Test your implementation using w3c.html.\n",
    "\n",
    "##### infile = open('w3c.html')\n",
    "##### content = infile.read()\n",
    "##### infile.close()\n",
    "##### hp = HeadingParser()\n",
    "##### hp.feed(content)\n",
    "\n",
    "W3C Mission\n",
    "\n",
    "Principles"
   ]
  },
  {
   "cell_type": "code",
   "execution_count": 116,
   "id": "f7e5e5fe",
   "metadata": {},
   "outputs": [
    {
     "name": "stdout",
     "output_type": "stream",
     "text": [
      "W3C Mission\n",
      " Principles\n"
     ]
    }
   ],
   "source": [
    "from html.parser import HTMLParser\n",
    "\n",
    "class HeadingParser(HTMLParser):\n",
    "    def __init__(self):\n",
    "        super().__init__()\n",
    "        self.headings = []       #List to store headings\n",
    "        self.indentation = 0    #Variable to track indentation level\n",
    "        self.in_heading = False  #Flag to know if we are in a heading tag\n",
    "\n",
    "    def handle_starttag(self, tag, attribute):\n",
    "        if tag.startswith('h') and len(tag) == 2:          #Checking if the tag is a heading tag\n",
    "            try:\n",
    "                self.indentation = int(tag[1]) - 1         #Finding identation level\n",
    "                self.in_heading = True\n",
    "            except ValueError:\n",
    "                pass\n",
    "        else:\n",
    "            self.in_heading = False\n",
    "\n",
    "    def handle_data(self, data):\n",
    "        if self.in_heading and data.strip():\n",
    "            self.headings.append((' ' * self.indentation) + data.strip())\n",
    "\n",
    "    def print_headings(self):\n",
    "        for heading in self.headings:\n",
    "            print(heading)\n",
    "\n",
    "\n",
    "infile = open('w3c.html')\n",
    "content = infile.read()\n",
    "infile.close()\n",
    "hp = HeadingParser()\n",
    "hp.feed(content)\n",
    "hp.print_headings()\n"
   ]
  },
  {
   "cell_type": "markdown",
   "id": "5b81eeac",
   "metadata": {},
   "source": [
    "# Question 7"
   ]
  },
  {
   "cell_type": "markdown",
   "id": "cedaf277",
   "metadata": {},
   "source": [
    "#### Implement recursive function webdir() that takes as input: a URL (as a string) and non-negative integers depth and indent. Your function should visit every web page reachable from the starting URL web page in depth clicks or less, and print each web page's URL. As shown below, indentation, specified by indent, should be used to indicate the depth of a URL.\n",
    "\n",
    " webdir('http://reed.cs.depaul.edu/lperkovic/csc242/test1.html', 2, 0) \n",
    " \n",
    "http://reed.cs.depaul.edu/lperkovic/csc242/test1.html http://reed.cs.depaul.edu/lperkovic/csc242/test2.html http://reed.cs.depaul.edu/lperkovic/csc242/test4.html http://reed.cs.depaul.edu/lperkovic/csc242/test3.html http://reed.cs.depaul.edu/lperkovic/csc242/test4.html"
   ]
  },
  {
   "cell_type": "code",
   "execution_count": 123,
   "id": "2048b879",
   "metadata": {},
   "outputs": [],
   "source": [
    "import requests\n",
    "from bs4 import BeautifulSoup\n",
    "\n",
    "def webdir(url, depth, indent):\n",
    "    \n",
    "    if depth == 0:   #Depth cannot be zero\n",
    "        return\n",
    "\n",
    "    \n",
    "    response = requests.get(url)  #Making an HTTP request to the given URL\n",
    "    soup = BeautifulSoup(response.text, 'html.parser')\n",
    "\n",
    "    \n",
    "    print(' ' * indent + url)    #Printing the current URL with appropriate indentation\n",
    "\n",
    "    \n",
    "    for link in soup.find_all('a'):  #Finding all links on the page\n",
    "        href = link.get('href')\n",
    "        if href and not href.startswith('http'):  \n",
    "            href = url + href\n",
    "        webdir(href, depth - 1, indent + 2)     #Recursion with reduced depth and increased indentation"
   ]
  },
  {
   "cell_type": "code",
   "execution_count": 122,
   "id": "4d13b969",
   "metadata": {},
   "outputs": [
    {
     "name": "stdout",
     "output_type": "stream",
     "text": [
      "http://reed.cs.depaul.edu/lperkovic/csc242/test1.html\n"
     ]
    }
   ],
   "source": [
    "webdir('http://reed.cs.depaul.edu/lperkovic/csc242/test1.html', 2,0)"
   ]
  },
  {
   "cell_type": "markdown",
   "id": "4c77fdcf",
   "metadata": {},
   "source": [
    "# Question 8"
   ]
  },
  {
   "cell_type": "markdown",
   "id": "d5eb40a3",
   "metadata": {},
   "source": [
    "#### Write SQL queries on the below database table that return:\n",
    "a) All the temperature data.\n",
    "\n",
    "b) All the cities, but without repetition.\n",
    "\n",
    "c) All the records for India.\n",
    "\n",
    "d) All the Fall records.\n",
    "\n",
    "e) The city, country, and season for which the average rainfall is between 200 and 400 millimeters.\n",
    "\n",
    "f) The city and country for which the average Fall temperature is above 20 degrees, in increasing temperature order.\n",
    "\n",
    "g) The total annual rainfall for Cairo.\n",
    "\n",
    "h) The total rainfall for each season."
   ]
  },
  {
   "cell_type": "code",
   "execution_count": 124,
   "id": "fdcad757",
   "metadata": {},
   "outputs": [
    {
     "name": "stdout",
     "output_type": "stream",
     "text": [
      "Requirement already satisfied: ipython-sql in c:\\users\\saban\\anaconda3\\lib\\site-packages (0.5.0)\n",
      "Requirement already satisfied: sqlalchemy>=2.0 in c:\\users\\saban\\anaconda3\\lib\\site-packages (from ipython-sql) (2.0.31)\n",
      "Requirement already satisfied: prettytable in c:\\users\\saban\\anaconda3\\lib\\site-packages (from ipython-sql) (3.10.0)\n",
      "Requirement already satisfied: sqlparse in c:\\users\\saban\\anaconda3\\lib\\site-packages (from ipython-sql) (0.5.0)\n",
      "Requirement already satisfied: ipython-genutils in c:\\users\\saban\\anaconda3\\lib\\site-packages (from ipython-sql) (0.2.0)\n",
      "Requirement already satisfied: six in c:\\users\\saban\\anaconda3\\lib\\site-packages (from ipython-sql) (1.15.0)\n",
      "Requirement already satisfied: ipython in c:\\users\\saban\\anaconda3\\lib\\site-packages (from ipython-sql) (7.22.0)\n",
      "Requirement already satisfied: greenlet!=0.4.17 in c:\\users\\saban\\anaconda3\\lib\\site-packages (from sqlalchemy>=2.0->ipython-sql) (1.0.0)\n",
      "Requirement already satisfied: typing-extensions>=4.6.0 in c:\\users\\saban\\anaconda3\\lib\\site-packages (from sqlalchemy>=2.0->ipython-sql) (4.12.2)\n",
      "Requirement already satisfied: setuptools>=18.5 in c:\\users\\saban\\anaconda3\\lib\\site-packages (from ipython->ipython-sql) (52.0.0.post20210125)\n",
      "Requirement already satisfied: pickleshare in c:\\users\\saban\\anaconda3\\lib\\site-packages (from ipython->ipython-sql) (0.7.5)\n",
      "Requirement already satisfied: colorama in c:\\users\\saban\\anaconda3\\lib\\site-packages (from ipython->ipython-sql) (0.4.4)\n",
      "Requirement already satisfied: traitlets>=4.2 in c:\\users\\saban\\anaconda3\\lib\\site-packages (from ipython->ipython-sql) (5.0.5)\n",
      "Requirement already satisfied: pygments in c:\\users\\saban\\anaconda3\\lib\\site-packages (from ipython->ipython-sql) (2.8.1)\n",
      "Requirement already satisfied: decorator in c:\\users\\saban\\anaconda3\\lib\\site-packages (from ipython->ipython-sql) (5.0.6)\n",
      "Requirement already satisfied: jedi>=0.16 in c:\\users\\saban\\anaconda3\\lib\\site-packages (from ipython->ipython-sql) (0.17.2)\n",
      "Requirement already satisfied: prompt-toolkit!=3.0.0,!=3.0.1,<3.1.0,>=2.0.0 in c:\\users\\saban\\anaconda3\\lib\\site-packages (from ipython->ipython-sql) (3.0.17)\n",
      "Requirement already satisfied: backcall in c:\\users\\saban\\anaconda3\\lib\\site-packages (from ipython->ipython-sql) (0.2.0)\n",
      "Requirement already satisfied: parso<0.8.0,>=0.7.0 in c:\\users\\saban\\anaconda3\\lib\\site-packages (from jedi>=0.16->ipython->ipython-sql) (0.7.0)\n",
      "Requirement already satisfied: wcwidth in c:\\users\\saban\\anaconda3\\lib\\site-packages (from prompt-toolkit!=3.0.0,!=3.0.1,<3.1.0,>=2.0.0->ipython->ipython-sql) (0.2.5)\n"
     ]
    }
   ],
   "source": [
    "!pip install ipython-sql"
   ]
  },
  {
   "cell_type": "code",
   "execution_count": 1,
   "id": "8595113f",
   "metadata": {},
   "outputs": [
    {
     "data": {
      "text/plain": [
       "<sqlite3.Cursor at 0x1dc13ab4e30>"
      ]
     },
     "execution_count": 1,
     "metadata": {},
     "output_type": "execute_result"
    }
   ],
   "source": [
    "import sqlite3\n",
    "con = sqlite3.connect('web.db')\n",
    "cur = con.cursor()\n",
    "\n",
    "#creating table\n",
    "\n",
    "cur.execute(\"CREATE TABLE Weather (City text, Country text, Season text, Temperature float, Rainfall float)\")\n",
    "\n",
    "#Insert first row values into table\n",
    "cur.execute(\"INSERT INTO Weather VALUES ('Mumbai','India','Winter',24.8,5.9)\")\n",
    "cur.execute(\"INSERT INTO Weather VALUES ('Mumbai','India','Spring',28.4,16.2)\")\n",
    "cur.execute(\"INSERT INTO Weather VALUES ('Mumbai','India','Summer',27.9,1549.4)\")\n",
    "cur.execute(\"INSERT INTO Weather VALUES ('Mumbai','India','Fall',27.6,346.0)\")\n",
    "cur.execute(\"INSERT INTO Weather VALUES ('London','United Kingdom','Winter',4.2,207.7)\")\n",
    "cur.execute(\"INSERT INTO Weather VALUES ('London','United Kingdom','Spring',8.3,169.6)\")\n",
    "cur.execute(\"INSERT INTO Weather VALUES ('London','United Kingdom','Summer',15.7,157.0)\")\n",
    "cur.execute(\"INSERT INTO Weather VALUES ('London','United Kingdom','Fall',10.4,218.5)\")\n",
    "cur.execute(\"INSERT INTO Weather VALUES ('Cairo','Egypt','Winter',13.6,16.5)\")\n",
    "cur.execute(\"INSERT INTO Weather VALUES ('Cairo','Egypt','Spring',20.7,6.5)\")\n",
    "cur.execute(\"INSERT INTO Weather VALUES ('Cairo','Egypt','Summer',27.7,0.1)\")\n",
    "cur.execute(\"INSERT INTO Weather VALUES ('Cairo','Egypt','Fall',22.2,4.5)\")"
   ]
  },
  {
   "cell_type": "code",
   "execution_count": 16,
   "id": "6151800f",
   "metadata": {},
   "outputs": [
    {
     "name": "stdout",
     "output_type": "stream",
     "text": [
      "(24.8,)\n",
      "(28.4,)\n",
      "(27.9,)\n",
      "(27.6,)\n",
      "(4.2,)\n",
      "(8.3,)\n",
      "(15.7,)\n",
      "(10.4,)\n",
      "(13.6,)\n",
      "(20.7,)\n",
      "(27.7,)\n",
      "(22.2,)\n"
     ]
    }
   ],
   "source": [
    "#a) All the temperature data.\n",
    "\n",
    "cur.execute('SELECT Temperature FROM Weather')\n",
    "a = cur.fetchall()\n",
    "\n",
    "for row in a:\n",
    "    print(row)\n"
   ]
  },
  {
   "cell_type": "code",
   "execution_count": 15,
   "id": "380d8616",
   "metadata": {},
   "outputs": [
    {
     "name": "stdout",
     "output_type": "stream",
     "text": [
      "('Mumbai',)\n",
      "('London',)\n",
      "('Cairo',)\n"
     ]
    }
   ],
   "source": [
    "#b)All the cities, but without repetition.\n",
    "\n",
    "cur.execute('select DISTINCT City from Weather')\n",
    "b = cur.fetchall()\n",
    "\n",
    "for i in b:\n",
    "    print(i)"
   ]
  },
  {
   "cell_type": "code",
   "execution_count": 9,
   "id": "dab10f2b",
   "metadata": {},
   "outputs": [
    {
     "name": "stdout",
     "output_type": "stream",
     "text": [
      "('Mumbai', 'India', 'Winter', 24.8, 5.9)\n",
      "('Mumbai', 'India', 'Spring', 28.4, 16.2)\n",
      "('Mumbai', 'India', 'Summer', 27.9, 1549.4)\n",
      "('Mumbai', 'India', 'Fall', 27.6, 346.0)\n"
     ]
    }
   ],
   "source": [
    "#c)All the records for India.\n",
    "\n",
    "cur.execute('select * FROM Weather WHERE Country = \"India\" ')\n",
    "c = cur.fetchall()\n",
    "for i in c:\n",
    "    print(i)"
   ]
  },
  {
   "cell_type": "code",
   "execution_count": 10,
   "id": "6e1ca92c",
   "metadata": {},
   "outputs": [
    {
     "name": "stdout",
     "output_type": "stream",
     "text": [
      "('Mumbai', 'India', 'Fall', 27.6, 346.0)\n",
      "('London', 'United Kingdom', 'Fall', 10.4, 218.5)\n",
      "('Cairo', 'Egypt', 'Fall', 22.2, 4.5)\n"
     ]
    }
   ],
   "source": [
    "#d)All the Fall records.\n",
    "\n",
    "cur.execute('select * FROM Weather WHERE Season = \"Fall\" ')\n",
    "d = cur.fetchall()\n",
    "for i in d:\n",
    "    print(i)"
   ]
  },
  {
   "cell_type": "code",
   "execution_count": 11,
   "id": "65163cd1",
   "metadata": {},
   "outputs": [
    {
     "name": "stdout",
     "output_type": "stream",
     "text": [
      "('Mumbai', 'India', 'Fall')\n",
      "('London', 'United Kingdom', 'Winter')\n",
      "('London', 'United Kingdom', 'Fall')\n"
     ]
    }
   ],
   "source": [
    "#e)The city, country, and season for which the average rainfall is between 200 and 400 millimeters.\n",
    "\n",
    "cur.execute('select City, Country, Season FROM Weather WHERE Rainfall BETWEEN 200 AND 400 ')\n",
    "e = cur.fetchall()\n",
    "for i in e:\n",
    "    print(i)"
   ]
  },
  {
   "cell_type": "code",
   "execution_count": 12,
   "id": "9e1e10af",
   "metadata": {},
   "outputs": [
    {
     "name": "stdout",
     "output_type": "stream",
     "text": [
      "('Cairo', 'Egypt')\n",
      "('Mumbai', 'India')\n"
     ]
    }
   ],
   "source": [
    "#f)The city and country for which the average Fall temperature is above 20 degrees, in increasing temperature order.\n",
    "\n",
    "cur.execute('select City, Country FROM Weather WHERE Season IN (\"Fall\") AND Temperature > 20 ORDER BY Temperature ASC')\n",
    "f = cur.fetchall()\n",
    "for i in f:\n",
    "    print(i)"
   ]
  },
  {
   "cell_type": "code",
   "execution_count": 13,
   "id": "c3ed0472",
   "metadata": {},
   "outputs": [
    {
     "name": "stdout",
     "output_type": "stream",
     "text": [
      "(27.6,)\n"
     ]
    }
   ],
   "source": [
    "#g)The total annual rainfall for Cairo.\n",
    "\n",
    "cur.execute('select SUM(Rainfall) as Total_Rainfall_Cairo FROM Weather WHERE City IN (\"Cairo\")')\n",
    "g = cur.fetchall()\n",
    "for i in g:\n",
    "    print(i)"
   ]
  },
  {
   "cell_type": "code",
   "execution_count": 14,
   "id": "547187c7",
   "metadata": {},
   "outputs": [
    {
     "name": "stdout",
     "output_type": "stream",
     "text": [
      "('Summer', 1706.5)\n",
      "('Fall', 569.0)\n",
      "('Winter', 230.1)\n",
      "('Spring', 192.29999999999998)\n"
     ]
    }
   ],
   "source": [
    "#h)The total rainfall for each season.\n",
    "\n",
    "cur.execute('select Season, SUM(Rainfall) FROM Weather WHERE Season IN (\"Winter\", \"Spring\", \"Summer\", \"Fall\") GROUP BY Season ORDER BY SUM(Rainfall) DESC ')\n",
    "h = cur.fetchall()\n",
    "for i in h:\n",
    "    print(i)"
   ]
  },
  {
   "cell_type": "markdown",
   "id": "3f6231f9",
   "metadata": {},
   "source": [
    "# Question 9"
   ]
  },
  {
   "cell_type": "markdown",
   "id": "48c31f7f",
   "metadata": {},
   "source": [
    "#### Suppose list words is defined as follows:\n",
    "words = ['The', 'quick', 'brown', 'fox', 'jumps', 'over', 'the', 'lazy', 'dog']\n",
    "\n",
    "#### Write list comprehension expressions that use list words and generate the following lists:\n",
    "a) ['THE', 'QUICK', 'BROWN', 'FOX', 'JUMPS', 'OVER', 'THE', 'LAZY', 'DOG']\n",
    "\n",
    "b) ['the', 'quick', 'brown', 'fox', 'jumps', 'over', 'the', 'lazy', 'dog']\n",
    "\n",
    "c) [3, 5, 5, 3, 5, 4, 3, 4, 3] (the list of lengths of words in list words).\n",
    "\n",
    "d) [['THE', 'the', 3], ['QUICK', 'quick', 5], ['BROWN', 'brown', 5], ['FOX', 'fox', 3], ['JUMPS', 'jumps', 5], ['OVER', 'over', 4], ['THE', 'the', 3], ['LAZY', 'lazy', 4], ['DOG', 'dog', 3]] (the list containing a list for every word of list words, where each list contains the word in uppercase and lowercase and the length of the word.)\n",
    "\n",
    "e) ['The', 'quick', 'brown', 'fox', 'jumps', 'over', 'the', 'lazy', 'dog'] (the list of words in list words containing 4 or more characters.)"
   ]
  },
  {
   "cell_type": "code",
   "execution_count": 49,
   "id": "464ec9f0",
   "metadata": {},
   "outputs": [
    {
     "name": "stdout",
     "output_type": "stream",
     "text": [
      "['THE', 'QUICK', 'BROWN', 'FOX', 'JUMPS', 'OVER', 'THE', 'LAZY', 'DOG']\n"
     ]
    }
   ],
   "source": [
    "#a)\n",
    "\n",
    "words = ['The', 'quick', 'brown', 'fox', 'jumps', 'over', 'the', 'lazy', 'dog']\n",
    "\n",
    "uppercase_words = [word.upper() for word in words]\n",
    "print(uppercase_words)  "
   ]
  },
  {
   "cell_type": "code",
   "execution_count": 50,
   "id": "d4cce88c",
   "metadata": {},
   "outputs": [
    {
     "name": "stdout",
     "output_type": "stream",
     "text": [
      "['the', 'quick', 'brown', 'fox', 'jumps', 'over', 'the', 'lazy', 'dog']\n"
     ]
    }
   ],
   "source": [
    "#b) \n",
    "lowercase_words = [word.lower() for word in words]\n",
    "print(lowercase_words) "
   ]
  },
  {
   "cell_type": "code",
   "execution_count": 51,
   "id": "6b02cb47",
   "metadata": {},
   "outputs": [
    {
     "name": "stdout",
     "output_type": "stream",
     "text": [
      "[3, 5, 5, 3, 5, 4, 3, 4, 3]\n"
     ]
    }
   ],
   "source": [
    "#c) \n",
    "word_lengths = [len(word) for word in words]\n",
    "print(word_lengths)  "
   ]
  },
  {
   "cell_type": "code",
   "execution_count": 52,
   "id": "da4c2ba3",
   "metadata": {},
   "outputs": [
    {
     "name": "stdout",
     "output_type": "stream",
     "text": [
      "[['THE', 'the', 3], ['QUICK', 'quick', 5], ['BROWN', 'brown', 5], ['FOX', 'fox', 3], ['JUMPS', 'jumps', 5], ['OVER', 'over', 4], ['THE', 'the', 3], ['LAZY', 'lazy', 4], ['DOG', 'dog', 3]]\n"
     ]
    }
   ],
   "source": [
    "#d) \n",
    "words1 = [[word.upper(), word.lower(), len(word)] for word in words]\n",
    "print(words1)  "
   ]
  },
  {
   "cell_type": "code",
   "execution_count": 54,
   "id": "3cd7a1bc",
   "metadata": {},
   "outputs": [
    {
     "name": "stdout",
     "output_type": "stream",
     "text": [
      "['quick', 'brown', 'jumps', 'over', 'lazy']\n"
     ]
    }
   ],
   "source": [
    "#e) \n",
    "length = [word for word in words if len(word) >= 4]\n",
    "print(length)  "
   ]
  }
 ],
 "metadata": {
  "kernelspec": {
   "display_name": "Python 3",
   "language": "python",
   "name": "python3"
  },
  "language_info": {
   "codemirror_mode": {
    "name": "ipython",
    "version": 3
   },
   "file_extension": ".py",
   "mimetype": "text/x-python",
   "name": "python",
   "nbconvert_exporter": "python",
   "pygments_lexer": "ipython3",
   "version": "3.8.8"
  }
 },
 "nbformat": 4,
 "nbformat_minor": 5
}
